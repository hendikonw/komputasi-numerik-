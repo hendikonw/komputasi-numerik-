{
  "nbformat": 4,
  "nbformat_minor": 0,
  "metadata": {
    "colab": {
      "provenance": [],
      "include_colab_link": true
    },
    "kernelspec": {
      "name": "python3",
      "display_name": "Python 3"
    },
    "language_info": {
      "name": "python"
    }
  },
  "cells": [
    {
      "cell_type": "markdown",
      "metadata": {
        "id": "view-in-github",
        "colab_type": "text"
      },
      "source": [
        "<a href=\"https://colab.research.google.com/github/hendikonw/komputasi-numerik-/blob/main/eliminasi%20gauss.ipynb\" target=\"_parent\"><img src=\"https://colab.research.google.com/assets/colab-badge.svg\" alt=\"Open In Colab\"/></a>"
      ]
    },
    {
      "cell_type": "code",
      "execution_count": null,
      "metadata": {
        "colab": {
          "base_uri": "https://localhost:8080/"
        },
        "id": "C3aJpOzwRswY",
        "outputId": "347934f6-19f0-4561-cbfb-bb76f0ad3a8f"
      },
      "outputs": [
        {
          "output_type": "stream",
          "name": "stdout",
          "text": [
            "Sistem Persamaan Linier Matrik Adalah:\n",
            "[2, 3, -1, 5]\n",
            "[4, 4, -3, 3]\n",
            "[-2, 3, -1, 1]\n"
          ]
        }
      ],
      "source": [
        "# Inisialisasi Matriks\n",
        "SPL = [[2, 3, -1, 5], [4, 4, -3, 3], [-2, 3, -1, 1]]\n",
        "print(\"Sistem Persamaan Linier Matrik Adalah:\")\n",
        "for row in SPL:\n",
        "    print(row)"
      ]
    },
    {
      "cell_type": "code",
      "source": [
        "# Operasi Baris Ke-2\n",
        "for i in range(4):  # kolom 0 hingga 3\n",
        "    SPL[1][i] = SPL[1][i] - (2 * SPL[0][i]) # 2 Adalah  SPL[1][0] / SPL[0][0]\n",
        "print(\"Setelah Eleminasi Baris Ke-2:\")\n",
        "for row in SPL:\n",
        "    print(row)"
      ],
      "metadata": {
        "colab": {
          "base_uri": "https://localhost:8080/"
        },
        "id": "js9lGSow2LIs",
        "outputId": "839c7690-fbe5-4f7d-db78-add35a0f57a5"
      },
      "execution_count": null,
      "outputs": [
        {
          "output_type": "stream",
          "name": "stdout",
          "text": [
            "Setelah Eleminasi Baris Ke-2:\n",
            "[2, 3, -1, 5]\n",
            "[-7, -2, -1, -7]\n",
            "[-2, 3, -1, 1]\n"
          ]
        }
      ]
    },
    {
      "cell_type": "code",
      "source": [
        "\n",
        "# SPL adalah matriks yang telah didefinisikan sebelumnya\n",
        "# Contoh SPL sebagai matriks:\n",
        "SPL = [\n",
        "    [2, 3, -1, 5],\n",
        "    [-7, -2, -1, -7],\n",
        "    [-2, 3, -1, 1]\n",
        "]\n",
        "\n",
        "# Mengakses elemen SPL[1][1] (baris kedua, kolom kedua)\n",
        "element = SPL[1][1]\n",
        "print(\"Elemen pada SPL[1][1]:\", element)\n",
        "for i in range(len(SPL[0])):  # Iterasi setiap kolom\n",
        "    SPL[1][i] = SPL[1][i] - (5 * SPL[0][i]) # menggunakan faktor 5\n",
        "print(\"Setelah operasi eliminasi baris kedua:\")\n",
        "for row in SPL:\n",
        "    print(row)"
      ],
      "metadata": {
        "colab": {
          "base_uri": "https://localhost:8080/"
        },
        "id": "ciwrHKDW745H",
        "outputId": "22b44453-558c-4d79-8b33-884adfe11daa"
      },
      "execution_count": null,
      "outputs": [
        {
          "output_type": "stream",
          "name": "stdout",
          "text": [
            "Elemen pada SPL[1][1]: -2\n",
            "Setelah operasi eliminasi baris kedua:\n",
            "[2, 3, -1, 5]\n",
            "[-17, -17, 4, -32]\n",
            "[-2, 3, -1, 1]\n"
          ]
        }
      ]
    },
    {
      "cell_type": "code",
      "source": [
        "# Misalkan SPL adalah matriks yang sudah ada:\n",
        "SPL = [\n",
        "    [5, -3, 2, 8],\n",
        "    [-7, 4, -5, 10],\n",
        "    [9, -2, 6, -3]\n",
        "]\n",
        "\n",
        "# Mengakses elemen SPL[2][1] (baris ketiga, kolom ketiga)\n",
        "element = SPL[2][2]\n",
        "print(\"Elemen pada SPL[2][1]:\", element)\n",
        "\n",
        "# Operasi baris eliminasi untuk baris ketiga dengan baris pertama\n",
        "for i in range(len(SPL[0])):  # Iterasi setiap kolom\n",
        "    SPL[2][i] = SPL[2][i] - (8 * SPL[0][i])  # Menggunakan faktor 8\n",
        "\n",
        "print(\"Setelah operasi eliminasi matriks:\")\n",
        "for i, row in enumerate(SPL):\n",
        "            print(row)"
      ],
      "metadata": {
        "colab": {
          "base_uri": "https://localhost:8080/"
        },
        "id": "mAInAe368reO",
        "outputId": "37a6c6c3-a3a2-4ea1-a36e-311550eda9cf"
      },
      "execution_count": null,
      "outputs": [
        {
          "output_type": "stream",
          "name": "stdout",
          "text": [
            "Elemen pada SPL[2][1]: 6\n",
            "Setelah operasi eliminasi matriks:\n",
            "[5, -3, 2, 8]\n",
            "[-7, 4, -5, 10]\n",
            "[-31, 22, -10, -67]\n"
          ]
        }
      ]
    }
  ]
}