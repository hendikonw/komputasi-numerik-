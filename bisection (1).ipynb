{
  "nbformat": 4, #adalah sebuah atribut penting dalam file notebook yang menunjukkan versi format notebook yang digunakan 
  "nbformat_minor": 0, #memberikan informasi tambahan tentang versi format notebook. 
  "metadata": { #Memberikan informasi tambahan tentang repositori
    "colab": { #Memudahkan integrasi antara GitHub dan Google Colab, sehingga pengguna bisa dengan mudah menjalankan dan berbagi notebook.
      "provenance": [] #konsep penting dalam GitHub yang membantu kita memahami sejarah dan evolusi kode
    },
    "kernelspec": { #bagian penting dari metadata notebook yang menentukan kernel yang digunakan untuk menjalankan kode.
      "name": "python3", #digunakan untuk menjalankan kode Python dalam notebook 
      "display_name": "Python 3" #adalah bagian dari metadata yang memberikan nama tampilan untuk kernel yang digunakan dalam notebook 
    },
    "language_info": { #Identifikasi Bahasa,sintaks dan semantik
      "name": "python" #digunakan untuk menjalankan kode yang ada di dalam notebook dalam bahasa python
    }
  },
  "cells": [ #bagian inti dari struktur JSON yang digunakan untuk merepresentasikan sebuah Jupyter Notebook.
    {
      "cell_type": "code",
      "execution_count": null,
      "metadata": {
        "id": "2JHVHadOtZcL"
      },
      "outputs": [],
      "source": [
        "import numpy as np"
      ]
    },
    {
      "cell_type": "code",
      "source": [
        "def bisection(f, a, b, tol):\n",
        "\n",
        "    if np.sign(f(a)) == np.sign(f(b)):\n",
        "        raise Exception(\n",
        "         \"tidak bisa\")\n",
        "\n",
        "    m = (a + b)/2\n",
        "\n",
        "    if np.abs(f(m)) < tol:\n",
        "        return m\n",
        "    elif np.sign(f(a)) == np.sign(f(m)):\n",
        "        return bisection(f, m, b, tol)\n",
        "    elif np.sign(f(b)) == np.sign(f(m)):\n",
        "        return bisection(f, a, m, tol)"
      ],
      "metadata": {
        "id": "5_LhaSoZurtu"
      },
      "execution_count": null,
      "outputs": []
    },
    {
      "cell_type": "code",
      "source": [
        "f = lambda x: x**2 - 2\n",
        "\n",
        "r1 = my_bisection(f, 0, 2, 0.1)\n",
        "print(\"r1 =\", r1)\n",
        "r01 = my_bisection(f, 0, 2, 0.01)\n",
        "print(\"r01 =\", r01)\n",
        "\n",
        "print(\"f(r1) =\", f(r1))\n",
        "print(\"f(r01) =\", f(r01))"
      ],
      "metadata": {
        "id": "ncQT2IKYvNBk"
      },
      "execution_count": null,
      "outputs": []
    }
  ]
}
