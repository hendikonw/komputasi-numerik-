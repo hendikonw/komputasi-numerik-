{
  "nbformat": 4, #adalah sebuah atribut penting dalam file notebook yang menunjukkan versi format notebook yang digunakan 
  "nbformat_minor": 0, #memberikan informasi tambahan tentang versi format notebook. 
  "metadata": { #Memberikan informasi tambahan tentang repositori
    "colab": { #Memudahkan integrasi antara GitHub dan Google Colab, sehingga pengguna bisa dengan mudah menjalankan dan berbagi notebook.
      "provenance": [] #konsep penting dalam GitHub yang membantu kita memahami sejarah dan evolusi kode
    },
    "kernelspec": { #bagian penting dari metadata notebook yang menentukan kernel yang digunakan untuk menjalankan kode.
      "name": "python3", #digunakan untuk menjalankan kode Python dalam notebook 
      "display_name": "Python 3" #adalah bagian dari metadata yang memberikan nama tampilan untuk kernel yang digunakan dalam notebook 
    },
    "language_info": { #Identifikasi Bahasa,sintaks dan semantik
      "name": "python" #digunakan untuk menjalankan kode yang ada di dalam notebook dalam bahasa python
    }
  },
  "cells": [ #bagian inti dari struktur JSON yang digunakan untuk merepresentasikan sebuah Jupyter Notebook.
    {
      "cell_type": "code", #membantu Jupyter Notebook dan GitHub memahami dan memproses sel-sel kode dengan benar
      "source": [], #mencari objek 
      "metadata": { #menyediakan informasi tentang repositori
        "id": "xhYJuSjIIvsh"#konteks objek atau entitas tertentu
      },
      "execution_count": null, #menunjukkan urutan eksekusi
      "outputs": [] #menampilkan
    },
    {
      "cell_type": "code", #membuat dokumen interaktif berisi kode,teks, dan visualisasi
      "source": [ #
        "def bisection(f, a, b, tol):\n", #menerapkan metode bisection (pembelahan)dalam menyelesaikan masalah numerik untuk mencari akar fungsi
        "\n",
        "    if np.sign(f(a)) == np.sign(f(b)):\n", #digunakan untuk memeriksa apakah ada akar 
        "        raise Exception(\n", #menangani kesalahan kustom
        "         \"tidak bisa\")\n", #pesan kesalahan atau informasi kepada pengguna
        "\n",
        "    m = (a + b)/2\n", #menghitung nilai rata rata
        "\n",
        "    if np.abs(f(m)) < tol:\n", #mencari akar persamaan
        "        return m\n", #mengembalikan(return)nilai dari sebuah fungsi
        "    elif np.sign(f(a)) == np.sign(f(m)):\n", #pernyataan kondisional a
        "        return bisection(f, m, b, tol)\n", #mengembalikan hasil dari pemanggilan
        "    elif np.sign(f(b)) == np.sign(f(m)):\n",# pernyataan kondisional b
        "        return bisection(f, a, m, tol)" #mengembalikan hasil dari pemanggilan
      ],
      "metadata": { #deskriptif tentang data utama
        "id": "5_LhaSoZurtu" #menginisialisasi id
      },
      "execution_count": null, #hasilnya tidak disimpan
      "outputs": [] #menampilkan
    },
    {
      "cell_type": "markdown", #adalah seperti label atau tanda pengenal untuk sebuah bagian dalam Jupyter Notebook.
      "source": [], #bagian dari metadata yang mendefinisikan isi dari sebuah sel dalam Jupyter Notebook.
      "metadata": {
        "id": "2sI4VYtbHCAU" #bagian dari metadata yang memberikan informasi tambahan tentang sel tersebut.
      }
    },
    {
      "cell_type": "code", #membuat dokumen interaktif berisi kode,teks, dan viusualisasi
      "source": [ #mencari dokumen
        "f = lambda x: x**2 - 2\n", #menghitung nilai persamaan
        "\n",
        "r1 = my_bisection(f, 0, 2, 0.1)\n", #memanggil fungsi
        "print(\"r1 =\", r1)\n", #mencetak hasil
        "r01 = my_bisection(f, 0, 2, 0.01)\n", # memanggil my_bisection dengan toleransi lebih kecil dan menyimpan hasil
        "print(\"r01 =\", r01)\n", #mencetak hasil yang lebih akurat
        "\n",
        "print(\"f(r1) =\", f(r1))\n", #mengevaluasi fungsi pada akar
        "print(\"f(r01) =\", f(r01))" #mencetak nilai fungsi
      ],
      "metadata": { #deskriptif tentang data utama 
        "id": "ncQT2IKYvNBk" #menginisialisasi id
      },
      "execution_count": null, # hasilnya tidak disimpan 
      "outputs": [] #menampilkan
    }
  ]
}
